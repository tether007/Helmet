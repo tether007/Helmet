{
 "cells": [
  {
   "cell_type": "code",
   "execution_count": null,
   "id": "b772f586-c96f-4abd-aa7b-85268636e0bc",
   "metadata": {},
   "outputs": [],
   "source": [
    "import matplotlib.pyplot as plt\n",
    "import numpy as np\n",
    "\n",
    "def draw_predictions(image, predictions):\n",
    "    image = image[0].permute(1, 2, 0).numpy()\n",
    "    plt.imshow(image)\n",
    "    for box in predictions[0]['boxes']:\n",
    "        x1, y1, x2, y2 = box\n",
    "        plt.gca().add_patch(plt.Rectangle((x1, y1), x2 - x1, y2 - y1, edgecolor='red', fill=False, linewidth=2))\n",
    "    plt.show()"
   ]
  }
 ],
 "metadata": {
  "kernelspec": {
   "display_name": "Python 3 (ipykernel)",
   "language": "python",
   "name": "python3"
  },
  "language_info": {
   "codemirror_mode": {
    "name": "ipython",
    "version": 3
   },
   "file_extension": ".py",
   "mimetype": "text/x-python",
   "name": "python",
   "nbconvert_exporter": "python",
   "pygments_lexer": "ipython3",
   "version": "3.12.4"
  }
 },
 "nbformat": 4,
 "nbformat_minor": 5
}
